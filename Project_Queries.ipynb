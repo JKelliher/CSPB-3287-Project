{
 "cells": [
  {
   "cell_type": "code",
   "execution_count": 1,
   "metadata": {},
   "outputs": [],
   "source": [
    "import sqlite3\n",
    "conn = sqlite3.connect('project_Final.db')\n",
    "c = conn.cursor()"
   ]
  },
  {
   "cell_type": "code",
   "execution_count": 2,
   "metadata": {},
   "outputs": [
    {
     "name": "stdout",
     "output_type": "stream",
     "text": [
      "Site Name: California Manufacturing\n",
      "Lots Produced: 19\n",
      "\n",
      "Site Name: Headquarters\n",
      "Lots Produced: 10\n",
      "\n",
      "Site Name: Louisville R&D\n",
      "Lots Produced: 2\n",
      "\n"
     ]
    }
   ],
   "source": [
    "#Query to output lots per site\n",
    "\n",
    "query = \"\"\"\n",
    "SELECT site_Name AS \"Site Name\", COUNT(production_Lot_Number) AS \"Total Lots Produced\"\n",
    "FROM production_Lots \n",
    "JOIN production_Suites ON production_Lots.suite_Number = production_Suites.suite_ID\n",
    "JOIN production_Sites ON production_Suites.site_ID = production_Sites.site_ID\n",
    "GROUP BY production_Sites.site_Name\n",
    "\"\"\"\n",
    "\n",
    "c.execute(query)\n",
    "rows = c.fetchall();\n",
    "\n",
    "for row in rows:\n",
    "    print(\"Site Name: \" + row[0])\n",
    "    print(\"Lots Produced: \" + str(row[1]))\n",
    "    print(\"\")\n"
   ]
  },
  {
   "cell_type": "code",
   "execution_count": 3,
   "metadata": {},
   "outputs": [
    {
     "name": "stdout",
     "output_type": "stream",
     "text": [
      "Process version 1 average yeild: 1203561158.1 infectious units\n",
      "Process version 2 average yeild: 30224163217.5 infectious units\n"
     ]
    }
   ],
   "source": [
    "#Query to compare yeild of process version 1 to process version 2\n",
    "query = \"\"\"\n",
    "SELECT ROUND(AVG(downstream_Process_Version_1.sterile_Filtration_Volume*downstream_Process_Version_1.sterile_Filtration_Titer_Hexon), 1), AVG(downstream_Process_Version_2.sterile_Filtration_Volume*downstream_Process_Version_2.sterile_Filtration_Titer_Hexon)\n",
    "FROM downstream_Process_Version_1 LEFT OUTER JOIN downstream_Process_Version_2 \n",
    "\"\"\"\n",
    "\n",
    "c.execute(query)\n",
    "rows = c.fetchall();\n",
    "\n",
    "for row in rows:\n",
    "    print(\"Process version 1 average yeild: \" + str(row[0]) + \" infectious units\")\n",
    "    print(\"Process version 2 average yeild: \" + str(row[1]) + \" infectious units\")"
   ]
  },
  {
   "cell_type": "code",
   "execution_count": 4,
   "metadata": {},
   "outputs": [
    {
     "name": "stdout",
     "output_type": "stream",
     "text": [
      "Site Name: California Manufacturing\n",
      "Total Material Produced: 9.25 Liters with 26184867635.0 infectious particles\n",
      "\n",
      "Site Name: Headquarters\n",
      "Total Material Produced: 4.33 Liters with 8274767185.0 infectious particles\n",
      "\n",
      "Site Name: Louisville R&D\n",
      "Total Material Produced: 1.0 Liters with 1647199924.0 infectious particles\n",
      "\n"
     ]
    }
   ],
   "source": [
    "#Query to output total amount of product produced at each site under process version_1\n",
    "\n",
    "query = \"\"\"\n",
    "SELECT site_Name, ROUND(SUM(downstream_Process_Version_1.sterile_Filtration_Volume),2), ROUND(SUM(downstream_Process_Version_1.sterile_Filtration_Volume*sterile_Filtration_Titer_Hexon))\n",
    "FROM production_Lots \n",
    "JOIN production_Suites ON production_Lots.suite_Number = production_Suites.suite_ID\n",
    "JOIN production_Sites ON production_Suites.site_ID = production_Sites.site_ID\n",
    "JOIN downstream_Process_Version_1 ON production_Lots.production_Lot_Number = downstream_Process_Version_1.production_Lot_Number\n",
    "GROUP BY production_Sites.site_Name\n",
    "\"\"\"\n",
    "\n",
    "c.execute(query)\n",
    "rows = c.fetchall();\n",
    "\n",
    "for row in rows:\n",
    "    print(\"Site Name: \" + row[0])\n",
    "    print(\"Total Material Produced: \" + str(row[1]) + \" Liters with \" + str(row[2]) + \" infectious particles\")\n",
    "    print(\"\")"
   ]
  },
  {
   "cell_type": "code",
   "execution_count": 5,
   "metadata": {},
   "outputs": [
    {
     "name": "stdout",
     "output_type": "stream",
     "text": [
      "Site Name: California Manufacturing\n",
      "Construct ID: 1\n",
      "Total Material Produced: 6.87 Liters with 21808378095.0 infectious particles\n",
      "\n",
      "Site Name: California Manufacturing\n",
      "Construct ID: 2\n",
      "Total Material Produced: 0.98 Liters with 1434139815.0 infectious particles\n",
      "\n",
      "Site Name: California Manufacturing\n",
      "Construct ID: 4\n",
      "Total Material Produced: 1.4 Liters with 2942349725.0 infectious particles\n",
      "\n",
      "Site Name: Headquarters\n",
      "Construct ID: 1\n",
      "Total Material Produced: 1.46 Liters with 2298048465.0 infectious particles\n",
      "\n",
      "Site Name: Headquarters\n",
      "Construct ID: 2\n",
      "Total Material Produced: 1.42 Liters with 3015736615.0 infectious particles\n",
      "\n",
      "Site Name: Headquarters\n",
      "Construct ID: 3\n",
      "Total Material Produced: 0.47 Liters with 1010912903.0 infectious particles\n",
      "\n",
      "Site Name: Headquarters\n",
      "Construct ID: 4\n",
      "Total Material Produced: 0.98 Liters with 1950069202.0 infectious particles\n",
      "\n",
      "Site Name: Louisville R&D\n",
      "Construct ID: 1\n",
      "Total Material Produced: 1.0 Liters with 1647199924.0 infectious particles\n",
      "\n"
     ]
    }
   ],
   "source": [
    "#Query to output total amount of each construct produced at each site under process version 1\n",
    "\n",
    "query = \"\"\"\n",
    "SELECT site_Name, virus_Banks.construct_ID, ROUND(SUM(downstream_Process_Version_1.sterile_Filtration_Volume),2), ROUND(SUM(downstream_Process_Version_1.sterile_Filtration_Volume*sterile_Filtration_Titer_Hexon))\n",
    "FROM production_Lots \n",
    "JOIN production_Suites ON production_Lots.suite_Number = production_Suites.suite_ID\n",
    "JOIN production_Sites ON production_Suites.site_ID = production_Sites.site_ID\n",
    "JOIN downstream_Process_Version_1 ON production_Lots.production_Lot_Number = downstream_Process_Version_1.production_Lot_Number\n",
    "JOIN upstream_Process_Version_1 ON upstream_Process_Version_1.Producton_Lot = downstream_Process_Version_1.production_Lot_Number\n",
    "JOIN virus_Banks ON upstream_Process_Version_1._25L_Bioreactor_Infection_Bank = virus_Banks.bank_ID\n",
    "GROUP BY production_Sites.site_Name, virus_Banks.construct_ID\n",
    "\"\"\"\n",
    "\n",
    "c.execute(query)\n",
    "rows = c.fetchall();\n",
    "\n",
    "for row in rows:\n",
    "    print(\"Site Name: \" + row[0])\n",
    "    print(\"Construct ID: \" + str(row[1]))\n",
    "    print(\"Total Material Produced: \" + str(row[2]) + \" Liters with \" + str(row[3]) + \" infectious particles\")\n",
    "    print(\"\")\n"
   ]
  },
  {
   "cell_type": "code",
   "execution_count": 6,
   "metadata": {},
   "outputs": [
    {
     "name": "stdout",
     "output_type": "stream",
     "text": [
      "Percent Yield Accross Column 1:\n",
      "Construct 1: 62.594%\n",
      "Construct 2: 56.632%\n",
      "Construct 3: 77.175%\n",
      "Construct 4: 64.4%\n"
     ]
    }
   ],
   "source": [
    "# Query to evaluate yeild across column 1 in the downstream purification for each construct\n",
    "query = \"\"\"\n",
    "SELECT ROUND(((column_1_Pool_Titer_Hexon*column_1_Pool_Volume) / (harvest_Titer_Hexon * harvest_Volume)*100),  3),  virus_Banks.construct_ID\n",
    "FROM downstream_Process_Version_1 \n",
    "JOIN upstream_Process_Version_1 ON upstream_Process_Version_1.Producton_Lot = downstream_Process_Version_1.production_Lot_Number\n",
    "JOIN virus_Banks ON upstream_Process_Version_1._25L_Bioreactor_Infection_Bank = virus_Banks.bank_ID\n",
    "GROUP BY virus_Banks.construct_ID\n",
    "\"\"\"\n",
    "\n",
    "c.execute(query)\n",
    "rows = c.fetchall();\n",
    "\n",
    "print(\"Percent Yield Accross Column 1:\")\n",
    "for row in rows:\n",
    "    print(\"Construct \" + str(row[1]) + \": \" + str(row[0]) + \"%\" )\n"
   ]
  },
  {
   "cell_type": "code",
   "execution_count": 7,
   "metadata": {},
   "outputs": [
    {
     "name": "stdout",
     "output_type": "stream",
     "text": [
      "Percent Yield across Column 2 for each resin type:\n",
      "Capto Mixed Mode Resin: 39.84%\n",
      "DEAE Mixed Mode Resin: 40.92%\n",
      "Fractogel Mixed Mode Resin: 34.03%\n",
      "Sepherose Mixed Mode Resin: 35.31%\n"
     ]
    }
   ],
   "source": [
    "# Query to evaluate yeild across column 2 in the downstream purification for each resin type used\n",
    "query = \"\"\"\n",
    "SELECT ROUND(((column_2_Pool_Titer_Hexon*column_2_Pool_Volume) / (column_1_Pool_Titer_Hexon*column_1_Pool_Volume)*100),  2),  consumables.description\n",
    "FROM downstream_Process_Version_1 \n",
    "JOIN consumables ON downstream_Process_Version_1.column_2_Resin_Lot_Number = consumables.lot_Number\n",
    "GROUP BY consumables.description\n",
    "\"\"\"\n",
    "\n",
    "c.execute(query)\n",
    "rows = c.fetchall();\n",
    "\n",
    "print(\"Percent Yield across Column 2 for each resin type:\")\n",
    "for row in rows:\n",
    "    print(str(row[1]) + \": \" + str(row[0]) + \"%\" )\n"
   ]
  },
  {
   "cell_type": "code",
   "execution_count": 8,
   "metadata": {},
   "outputs": [
    {
     "name": "stdout",
     "output_type": "stream",
     "text": [
      "Average Total Viable Cells at 25L Bioreactor Sample #3:\n",
      "Stirred tank style bioreactor: 113600.0 cells\n",
      "Wave style bioreactor: 127360.0 cells\n"
     ]
    }
   ],
   "source": [
    "#Query to compare cell growth in Wave style bioreactor vs stired Tank using total viable cells at 25L Bioreactor sample 3 in process version 1 as metric\n",
    "query = \"\"\"\n",
    "SELECT Round(_25L_Bioreactor_Sample_3_Viable_Cell_Density * _25L_Bioreactor_Sample_3_Reactor_Volume,0),  equipment_Category\n",
    "FROM upstream_Process_Version_1 \n",
    "JOIN equipment ON upstream_Process_Version_1._25L_Bioreactor_Equipment_ID = equipment.equipment_ID\n",
    "GROUP BY equipment.equipment_Category\n",
    "\"\"\"\n",
    "\n",
    "c.execute(query)\n",
    "rows = c.fetchall();\n",
    "\n",
    "print(\"Average Total Viable Cells at 25L Bioreactor Sample #3:\")\n",
    "for row in rows:\n",
    "    print(str(row[1]) + \": \" + str(row[0]) + \" cells\" )\n"
   ]
  },
  {
   "cell_type": "code",
   "execution_count": 9,
   "metadata": {},
   "outputs": [
    {
     "name": "stdout",
     "output_type": "stream",
     "text": [
      "Average Total Infectious Particles at end of Infection step:\n",
      "HK-2 Cell Master Cell Bank: 4643500000.0 Infectious Particles\n",
      "HK-2 Working Cell Bank: 4992000000.0 Infectious Particles\n",
      "HK-2 Working Cell Bank 2: 4498200000.0 Infectious Particles\n",
      "Modified HK-2 Master Cell Bank: 5041900000.0 Infectious Particles\n"
     ]
    }
   ],
   "source": [
    "#Query to compare viral particle generation by cell bank using Hexon Assay Titer at the 25L Bioreactor as metric\n",
    "query = \"\"\"\n",
    "SELECT _25L_Bioreactor_Infection_Titer_Hexon_Assay * _25L_Bioreactor_Sample_3_Reactor_Volume, cell_Bank, cell_Banks.description\n",
    "FROM upstream_Process_Version_1 \n",
    "JOIN cell_Banks ON upstream_Process_Version_1.cell_Bank = cell_Banks.cell_bank_ID\n",
    "GROUP BY cell_Bank\n",
    "\"\"\"\n",
    "\n",
    "c.execute(query)\n",
    "rows = c.fetchall();\n",
    "\n",
    "print(\"Average Total Infectious Particles at end of Infection step:\")\n",
    "for row in rows:\n",
    "    print(str(row[2]) + \": \" + str(row[0]) + \" Infectious Particles\" )"
   ]
  },
  {
   "cell_type": "code",
   "execution_count": null,
   "metadata": {},
   "outputs": [],
   "source": []
  }
 ],
 "metadata": {
  "kernelspec": {
   "display_name": "Python 3",
   "language": "python",
   "name": "python3"
  },
  "language_info": {
   "codemirror_mode": {
    "name": "ipython",
    "version": 3
   },
   "file_extension": ".py",
   "mimetype": "text/x-python",
   "name": "python",
   "nbconvert_exporter": "python",
   "pygments_lexer": "ipython3",
   "version": "3.8.6"
  }
 },
 "nbformat": 4,
 "nbformat_minor": 4
}
